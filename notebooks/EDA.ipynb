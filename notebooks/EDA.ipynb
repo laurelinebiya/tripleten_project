{
 "cells": [
  {
   "cell_type": "code",
   "execution_count": 29,
   "metadata": {},
   "outputs": [
    {
     "name": "stdout",
     "output_type": "stream",
     "text": [
      "2015\n",
      "1900\n"
     ]
    }
   ],
   "source": [
    "import streamlit as st\n",
    "import pandas as pd\n",
    "\n",
    "df=pd.read_csv('kc_house_data copy.csv')\n",
    "df.head(50)\n",
    "\n",
    "df.count()\n",
    "\n",
    "df['zipcode'].unique()\n",
    "\n",
    "df['yr_built'].min()\n",
    "\n",
    "yr_built_min, yr_built_max =(df['yr_built'].min(),df['yr_built'].max())\n",
    "\n",
    "print(yr_built_max)\n",
    "print(yr_built_min)\n",
    "\n",
    "\n"
   ]
  }
 ],
 "metadata": {
  "kernelspec": {
   "display_name": "Python 3",
   "language": "python",
   "name": "python3"
  },
  "language_info": {
   "codemirror_mode": {
    "name": "ipython",
    "version": 3
   },
   "file_extension": ".py",
   "mimetype": "text/x-python",
   "name": "python",
   "nbconvert_exporter": "python",
   "pygments_lexer": "ipython3",
   "version": "3.11.1"
  },
  "orig_nbformat": 4
 },
 "nbformat": 4,
 "nbformat_minor": 2
}
